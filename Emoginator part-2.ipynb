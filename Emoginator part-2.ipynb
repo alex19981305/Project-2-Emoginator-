{
 "cells": [
  {
   "cell_type": "code",
   "execution_count": 1,
   "metadata": {},
   "outputs": [
    {
     "name": "stderr",
     "output_type": "stream",
     "text": [
      "Using TensorFlow backend.\n"
     ]
    }
   ],
   "source": [
    "import numpy as np\n",
    "from keras.layers import Dense,Flatten,Conv2D\n",
    "from keras.layers import MaxPooling2D,Dropout\n",
    "from keras.utils import np_utils,print_summary\n",
    "from keras.models import Sequential\n",
    "from keras.callbacks import ModelCheckpoint\n",
    "import pandas as pd\n",
    "import keras.backend as K"
   ]
  },
  {
   "cell_type": "code",
   "execution_count": 2,
   "metadata": {},
   "outputs": [],
   "source": [
    "data=pd.read_csv(\"train_dataset.csv\")\n",
    "dataset=np.array(data)\n",
    "np.random.shuffle(dataset)\n",
    "X=dataset\n",
    "Y=dataset\n",
    "X=X[:,1:2501]\n",
    "Y=Y[:,0]"
   ]
  },
  {
   "cell_type": "code",
   "execution_count": 3,
   "metadata": {},
   "outputs": [],
   "source": [
    "X_train=X[0:12000,:]\n",
    "X_train=X_train/255\n",
    "X_test=X[12000:13201,:]\n",
    "X_test=X_test/255"
   ]
  },
  {
   "cell_type": "code",
   "execution_count": 4,
   "metadata": {},
   "outputs": [],
   "source": [
    "Y=Y.reshape(Y.shape[0],1)\n",
    "Y_train=Y[0:12000,:]\n",
    "Y_train=Y_train.T\n",
    "Y_test=Y[12000:13201,:]\n",
    "Y_test=Y_test.T"
   ]
  },
  {
   "cell_type": "code",
   "execution_count": 5,
   "metadata": {},
   "outputs": [],
   "source": [
    "image_x=50\n",
    "image_y=50\n",
    "train_y=np_utils.to_categorical(Y_train)\n",
    "test_y=np_utils.to_categorical(Y_test)\n",
    "train_y=train_y.reshape(train_y.shape[1],train_y.shape[2])\n",
    "test_y=test_y.reshape(test_y.shape[1],test_y.shape[2])\n",
    "X_train=X_train.reshape(X_train.shape[0],image_x,image_y,1)\n",
    "X_test=X_test.reshape(X_test.shape[0],image_x,image_y,1)"
   ]
  },
  {
   "cell_type": "code",
   "execution_count": 6,
   "metadata": {},
   "outputs": [],
   "source": [
    "def keras_model(image_x, image_y):\n",
    "    num_of_classes = 12\n",
    "    model = Sequential()\n",
    "    model.add(Conv2D(filters=32, kernel_size=(5, 5), input_shape=(image_x, image_y, 1), activation=\"relu\"))\n",
    "    model.add(MaxPooling2D(pool_size=(2, 2), strides=(2, 2), padding=\"same\"))\n",
    "    model.add(Conv2D(64, (5, 5), activation=\"relu\"))\n",
    "    model.add(MaxPooling2D(pool_size=(5, 5), strides=(5, 5), padding=\"same\"))\n",
    "    model.add(Flatten())\n",
    "    model.add(Dense(1024, activation=\"relu\"))\n",
    "    model.add(Dropout(0.6))\n",
    "    model.add(Dense(num_of_classes, activation=\"softmax\"))\n",
    "    model.compile(loss=\"categorical_crossentropy\", optimizer=\"adam\", metrics=[\"accuracy\"])\n",
    "    filepath = \"face-rec_256.h5\"\n",
    "    checkpoint1 = ModelCheckpoint(filepath, monitor=\"val_acc\", verbose=1, save_best_only=True, mode=\"max\")\n",
    "    callbacks_list = [checkpoint1]\n",
    "\n",
    "    return model, callbacks_list"
   ]
  },
  {
   "cell_type": "code",
   "execution_count": 7,
   "metadata": {},
   "outputs": [
    {
     "name": "stdout",
     "output_type": "stream",
     "text": [
      "WARNING:tensorflow:Large dropout rate: 0.6 (>0.5). In TensorFlow 2.x, dropout() uses dropout rate instead of keep_prob. Please ensure that this is intended.\n",
      "Train on 12000 samples, validate on 1199 samples\n",
      "Epoch 1/10\n",
      "12000/12000 [==============================] - 28s 2ms/step - loss: 0.1354 - accuracy: 0.9578 - val_loss: 2.5082e-04 - val_accuracy: 1.0000\n",
      "Epoch 2/10\n",
      "   64/12000 [..............................] - ETA: 27s - loss: 2.0965e-04 - accuracy: 1.0000"
     ]
    },
    {
     "name": "stderr",
     "output_type": "stream",
     "text": [
      "C:\\Users\\Students\\PycharmProjects\\emoginator-3\\venv\\lib\\site-packages\\keras\\callbacks\\callbacks.py:707: RuntimeWarning: Can save best model only with val_acc available, skipping.\n",
      "  'skipping.' % (self.monitor), RuntimeWarning)\n"
     ]
    },
    {
     "name": "stdout",
     "output_type": "stream",
     "text": [
      "12000/12000 [==============================] - 28s 2ms/step - loss: 0.0010 - accuracy: 0.9998 - val_loss: 8.6137e-05 - val_accuracy: 1.0000\n",
      "Epoch 3/10\n",
      "12000/12000 [==============================] - 28s 2ms/step - loss: 0.0026 - accuracy: 0.9995 - val_loss: 8.9821e-06 - val_accuracy: 1.0000\n",
      "Epoch 4/10\n",
      "12000/12000 [==============================] - 28s 2ms/step - loss: 1.7563e-04 - accuracy: 1.0000 - val_loss: 4.1909e-06 - val_accuracy: 1.0000\n",
      "Epoch 5/10\n",
      "12000/12000 [==============================] - 28s 2ms/step - loss: 4.6837e-05 - accuracy: 1.0000 - val_loss: 8.1903e-07 - val_accuracy: 1.0000\n",
      "Epoch 6/10\n",
      "12000/12000 [==============================] - 28s 2ms/step - loss: 1.5739e-05 - accuracy: 1.0000 - val_loss: 1.0836e-06 - val_accuracy: 1.0000\n",
      "Epoch 7/10\n",
      "12000/12000 [==============================] - 28s 2ms/step - loss: 1.9107e-05 - accuracy: 1.0000 - val_loss: 2.7540e-07 - val_accuracy: 1.0000\n",
      "Epoch 8/10\n",
      "12000/12000 [==============================] - 28s 2ms/step - loss: 1.4989e-05 - accuracy: 1.0000 - val_loss: 7.9441e-07 - val_accuracy: 1.0000\n",
      "Epoch 9/10\n",
      "12000/12000 [==============================] - 28s 2ms/step - loss: 5.8518e-06 - accuracy: 1.0000 - val_loss: 1.7568e-07 - val_accuracy: 1.0000\n",
      "Epoch 10/10\n",
      "12000/12000 [==============================] - 28s 2ms/step - loss: 1.1150e-05 - accuracy: 1.0000 - val_loss: 1.7260e-07 - val_accuracy: 1.0000\n",
      "CNN error: 0.00%\n",
      "Model: \"sequential_1\"\n",
      "_________________________________________________________________\n",
      "Layer (type)                 Output Shape              Param #   \n",
      "=================================================================\n",
      "conv2d_1 (Conv2D)            (None, 46, 46, 32)        832       \n",
      "_________________________________________________________________\n",
      "max_pooling2d_1 (MaxPooling2 (None, 23, 23, 32)        0         \n",
      "_________________________________________________________________\n",
      "conv2d_2 (Conv2D)            (None, 19, 19, 64)        51264     \n",
      "_________________________________________________________________\n",
      "max_pooling2d_2 (MaxPooling2 (None, 4, 4, 64)          0         \n",
      "_________________________________________________________________\n",
      "flatten_1 (Flatten)          (None, 1024)              0         \n",
      "_________________________________________________________________\n",
      "dense_1 (Dense)              (None, 1024)              1049600   \n",
      "_________________________________________________________________\n",
      "dropout_1 (Dropout)          (None, 1024)              0         \n",
      "_________________________________________________________________\n",
      "dense_2 (Dense)              (None, 12)                12300     \n",
      "=================================================================\n",
      "Total params: 1,113,996\n",
      "Trainable params: 1,113,996\n",
      "Non-trainable params: 0\n",
      "_________________________________________________________________\n"
     ]
    }
   ],
   "source": [
    "model,callbacks_list=keras_model(image_x,image_y)\n",
    "model.fit(X_train,train_y,validation_data=(X_test,test_y),epochs=10,batch_size=64,callbacks=callbacks_list)\n",
    "scores=model.evaluate(X_test,test_y,verbose=0)\n",
    "print(\"CNN error: %.2f%%\" % (100-scores[1]*100))\n",
    "print_summary(model)\n",
    "model.save(\"handEmo.h5\")"
   ]
  },
  {
   "cell_type": "code",
   "execution_count": null,
   "metadata": {},
   "outputs": [],
   "source": []
  },
  {
   "cell_type": "code",
   "execution_count": null,
   "metadata": {},
   "outputs": [],
   "source": []
  }
 ],
 "metadata": {
  "kernelspec": {
   "display_name": "Python 3",
   "language": "python",
   "name": "python3"
  },
  "language_info": {
   "codemirror_mode": {
    "name": "ipython",
    "version": 3
   },
   "file_extension": ".py",
   "mimetype": "text/x-python",
   "name": "python",
   "nbconvert_exporter": "python",
   "pygments_lexer": "ipython3",
   "version": "3.7.3"
  }
 },
 "nbformat": 4,
 "nbformat_minor": 2
}
